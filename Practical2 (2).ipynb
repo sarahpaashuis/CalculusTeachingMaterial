{
  "nbformat": 4,
  "nbformat_minor": 0,
  "metadata": {
    "colab": {
      "name": "Practical2.ipynb",
      "provenance": [],
      "collapsed_sections": []
    },
    "kernelspec": {
      "name": "python3",
      "display_name": "Python 3"
    }
  },
  "cells": [
    {
      "cell_type": "markdown",
      "metadata": {
        "id": "jwaNtNeRxAwQ",
        "colab_type": "text"
      },
      "source": [
        "# Practical 2: Sets and functions\n",
        "\n",
        "In mathematics, a set is a collection of unique objects without an order. For example, the sets $\\{0,1,2\\}$ and \\{1,0,2\\} are identical. Futhermore, since each element in a set is unique, the set $\\{0,0,1,2\\}$ is identical to \\{0,1,2\\}.\n",
        "\n",
        "## Sets\n",
        "\n",
        "Python has a set data structure that encodes those important properties of mathematical sets. A Python set can be defined as follows:"
      ]
    },
    {
      "cell_type": "code",
      "metadata": {
        "id": "hUNqkhTemEg2",
        "colab_type": "code",
        "colab": {}
      },
      "source": [
        "A = {0,1,2}"
      ],
      "execution_count": null,
      "outputs": []
    },
    {
      "cell_type": "markdown",
      "metadata": {
        "id": "qMd3k4cqoXTP",
        "colab_type": "text"
      },
      "source": [
        "Python sets do not store the order and remove duplications, for example:"
      ]
    },
    {
      "cell_type": "code",
      "metadata": {
        "id": "4I9pFsNWof4S",
        "colab_type": "code",
        "colab": {}
      },
      "source": [
        "A = {0,1,2}\n",
        "B = {1,0,2}\n",
        "\n",
        "print(A == B)\n",
        "\n",
        "A = {0,0,1,2}\n",
        "B = {0,1,2}\n",
        "\n",
        "print(A == B)"
      ],
      "execution_count": null,
      "outputs": []
    },
    {
      "cell_type": "markdown",
      "metadata": {
        "id": "ZSyA-dATmLWK",
        "colab_type": "text"
      },
      "source": [
        "You can also define the set of all numbers satisfieng a given property, for example, this is the set of all the positive integers smaller than 20 divisible by 4:"
      ]
    },
    {
      "cell_type": "code",
      "metadata": {
        "id": "8GHaxSQEmSe-",
        "colab_type": "code",
        "colab": {
          "base_uri": "https://localhost:8080/",
          "height": 35
        },
        "outputId": "dea12e55-147c-4ebe-d243-6776fa505d53"
      },
      "source": [
        "A = {a for a in range(20) if a % 4 == 0}\n",
        "\n",
        "print(A)"
      ],
      "execution_count": null,
      "outputs": [
        {
          "output_type": "stream",
          "text": [
            "{0, 4, 8, 12, 16}\n"
          ],
          "name": "stdout"
        }
      ]
    },
    {
      "cell_type": "markdown",
      "metadata": {
        "id": "LKo1E19GnYD6",
        "colab_type": "text"
      },
      "source": [
        "where $a$ % $b$ is remainder of $a$ when divided by $b$.\n",
        "\n",
        "### Solved exercise 1\n",
        "Using Python, create the set of all prime numbers smaller than 30. Remember that a prime number is defined as a number only divisible by 1 and by itself.\n",
        "\n",
        "#### Solution\n",
        "We can check if a number is prime by dividing it from all numbers smaller than itself and checking that the remainder is always different from 0. Let's define this primality check function as follows:"
      ]
    },
    {
      "cell_type": "code",
      "metadata": {
        "id": "boZlXAKkxve3",
        "colab_type": "code",
        "colab": {
          "base_uri": "https://localhost:8080/",
          "height": 35
        },
        "outputId": "4bf1d241-ec44-4f12-ac14-6d4704f8c8c4"
      },
      "source": [
        "def is_prime(n):\n",
        "  for k in range(2,n):\n",
        "    if n % k == 0:\n",
        "      return False\n",
        "  return True\n",
        "\n",
        "is_prime(10)\n"
      ],
      "execution_count": null,
      "outputs": [
        {
          "output_type": "execute_result",
          "data": {
            "text/plain": [
              "False"
            ]
          },
          "metadata": {
            "tags": []
          },
          "execution_count": 24
        }
      ]
    },
    {
      "cell_type": "markdown",
      "metadata": {
        "id": "NXQX8tqLpysZ",
        "colab_type": "text"
      },
      "source": [
        "We can now use this function to create the set of primes smaller than 30:"
      ]
    },
    {
      "cell_type": "code",
      "metadata": {
        "id": "pZjaE9AmltOx",
        "colab_type": "code",
        "colab": {
          "base_uri": "https://localhost:8080/",
          "height": 35
        },
        "outputId": "9a207631-5ea5-432d-ceef-b71bafa6604b"
      },
      "source": [
        "primes = {p for p in range(2,30) if is_prime(p)}\n",
        "print(\"The primes smaller than 30 are {}\".format(primes))"
      ],
      "execution_count": null,
      "outputs": [
        {
          "output_type": "stream",
          "text": [
            "The primes smaller than 30 are {2, 3, 5, 7, 11, 13, 17, 19, 23, 29}\n"
          ],
          "name": "stdout"
        }
      ]
    },
    {
      "cell_type": "markdown",
      "metadata": {
        "id": "rIwkH_WRqM0m",
        "colab_type": "text"
      },
      "source": [
        "### Exercises 1\n",
        "- Using Python, create the set of all integers smaller than 30 and divisible by 6\n",
        "- Using Python, create the set of all square numbers smaller than 40\n",
        "- Using Python, create the set of all cube numbers smaller than 35\n",
        "- Using Python, create the set of all numbers smaller than 40 that are co-prime with 10 (Two numbers are co-prime if the only number that divides both is 1)"
      ]
    },
    {
      "cell_type": "code",
      "metadata": {
        "id": "9-pHjzVI4hK2",
        "colab_type": "code",
        "colab": {}
      },
      "source": [
        "#Exercise 1A"
      ],
      "execution_count": null,
      "outputs": []
    },
    {
      "cell_type": "code",
      "metadata": {
        "id": "lIBU6tol4gwP",
        "colab_type": "code",
        "colab": {}
      },
      "source": [
        "#Exercise 1B"
      ],
      "execution_count": null,
      "outputs": []
    },
    {
      "cell_type": "code",
      "metadata": {
        "id": "0eJtsOQV4gUe",
        "colab_type": "code",
        "colab": {}
      },
      "source": [
        "#Exercise 1C"
      ],
      "execution_count": null,
      "outputs": []
    },
    {
      "cell_type": "code",
      "metadata": {
        "id": "-3hbf0_H4gAP",
        "colab_type": "code",
        "colab": {}
      },
      "source": [
        "#Exercise 1D"
      ],
      "execution_count": null,
      "outputs": []
    },
    {
      "cell_type": "markdown",
      "metadata": {
        "id": "OMrEALVxyeGv",
        "colab_type": "text"
      },
      "source": [
        "## Functions\n",
        "\n",
        "Functions are operations that transform every possible input $x$ into a well determined output $y$. For example, a function can output $y$ from a series of arithmetic operations on $x$ such as in the following case:\n",
        "\n",
        "$$\n",
        "y = f(x) = \\frac{4 x + 6 x^2 + 6}{2x}\n",
        "$$\n",
        "\n",
        "A function can also be defined in pieces, for example, the absolute value function is defined as follows:\n",
        "\n",
        "$$\n",
        "\\begin{align}\n",
        "|x| = \\left\\{ \\begin{array}{cc} \n",
        "                x & \\hspace{5mm} \\text{if} ~~~ x \\geq 0 \\\\\n",
        "                -x & \\hspace{5mm} \\text{otherwise} \\\\\n",
        "                \\end{array} \\right.\n",
        "\\end{align}\n",
        "$$\n",
        "\n",
        "Functions can be defined in python using lambdas, for example:"
      ]
    },
    {
      "cell_type": "code",
      "metadata": {
        "id": "EYEeepxeyedn",
        "colab_type": "code",
        "colab": {}
      },
      "source": [
        "f = lambda x: (4*x + 6*x**2 + 6)/(2*x)\n",
        "\n",
        "abs = lambda x: x if x >= 0 else -x"
      ],
      "execution_count": null,
      "outputs": []
    },
    {
      "cell_type": "markdown",
      "metadata": {
        "id": "pal8-w3Etg5s",
        "colab_type": "text"
      },
      "source": [
        "We can now evaluate these functions at a point such as for example x = -5:"
      ]
    },
    {
      "cell_type": "code",
      "metadata": {
        "id": "YfGWF1EAtoE3",
        "colab_type": "code",
        "colab": {
          "base_uri": "https://localhost:8080/",
          "height": 53
        },
        "outputId": "52e2e9f1-e0ed-44d5-e59c-afeda96ec3c1"
      },
      "source": [
        "print(\"f(-5) = {}\".format(f(-5)))\n",
        "print(\"|-5| = {}\".format(abs(-5)))"
      ],
      "execution_count": null,
      "outputs": [
        {
          "output_type": "stream",
          "text": [
            "f(-5) = -13.6\n",
            "|-5| = 5\n"
          ],
          "name": "stdout"
        }
      ]
    },
    {
      "cell_type": "markdown",
      "metadata": {
        "id": "js1PXDdWt9Ob",
        "colab_type": "text"
      },
      "source": [
        "We can also plot these function using the matplotlib.pyplot library:"
      ]
    },
    {
      "cell_type": "code",
      "metadata": {
        "id": "NKK_50DjuEF1",
        "colab_type": "code",
        "colab": {
          "base_uri": "https://localhost:8080/",
          "height": 283
        },
        "outputId": "9ce194bd-4167-4850-c94a-f075faaa623b"
      },
      "source": [
        "import matplotlib.pyplot as plt\n",
        "import numpy as np\n",
        "\n",
        "x_range = np.linspace(-5,5,100)\n",
        "\n",
        "plt.plot(x_range, [f(x) for x in x_range])"
      ],
      "execution_count": null,
      "outputs": [
        {
          "output_type": "execute_result",
          "data": {
            "text/plain": [
              "[<matplotlib.lines.Line2D at 0x7f5b687d0198>]"
            ]
          },
          "metadata": {
            "tags": []
          },
          "execution_count": 51
        },
        {
          "output_type": "display_data",
          "data": {
            "image/png": "[encoded data removed]",
            "text/plain": [
              "<Figure size 432x288 with 1 Axes>"
            ]
          },
          "metadata": {
            "tags": [],
            "needs_background": "light"
          }
        }
      ]
    },
    {
      "cell_type": "code",
      "metadata": {
        "id": "33PaieX6uWEw",
        "colab_type": "code",
        "colab": {
          "base_uri": "https://localhost:8080/",
          "height": 283
        },
        "outputId": "0508c7a1-03e4-4b53-d325-552e241fc04b"
      },
      "source": [
        "plt.plot(x_range, [abs(x) for x in x_range])"
      ],
      "execution_count": null,
      "outputs": [
        {
          "output_type": "execute_result",
          "data": {
            "text/plain": [
              "[<matplotlib.lines.Line2D at 0x7f5b68cd2438>]"
            ]
          },
          "metadata": {
            "tags": []
          },
          "execution_count": 52
        },
        {
          "output_type": "display_data",
          "data": {
            "image/png": "[encoded data removed]",
            "text/plain": [
              "<Figure size 432x288 with 1 Axes>"
            ]
          },
          "metadata": {
            "tags": [],
            "needs_background": "light"
          }
        }
      ]
    },
    {
      "cell_type": "markdown",
      "metadata": {
        "id": "gfIw7kJSu-UI",
        "colab_type": "text"
      },
      "source": [
        "### Exercises 2\n",
        "Use Python to plot the following functions:\n",
        "- $f(x) = x + 3x + 5 x^2$\n",
        "- $f(x) = 1/x ~~\\text{if} ~~ x < 0 ~~\\text{otherwise} ~~ x$\n",
        "- $f(x) = -1 ~~\\text{if} ~~ x < 0 ~~\\text{otherwise} ~~ 1$\n",
        "- $f(x) = (2x + 4x^4)/(3 + x^2)$"
      ]
    },
    {
      "cell_type": "code",
      "metadata": {
        "id": "AG32lJEP4vSR",
        "colab_type": "code",
        "colab": {}
      },
      "source": [
        "#Exercise 2A"
      ],
      "execution_count": null,
      "outputs": []
    },
    {
      "cell_type": "code",
      "metadata": {
        "id": "xU3AZELv4zlo",
        "colab_type": "code",
        "colab": {}
      },
      "source": [
        "#Exercise 2B"
      ],
      "execution_count": null,
      "outputs": []
    },
    {
      "cell_type": "code",
      "metadata": {
        "id": "OerBm_5F40u8",
        "colab_type": "code",
        "colab": {}
      },
      "source": [
        "#Exercise 2C"
      ],
      "execution_count": null,
      "outputs": []
    },
    {
      "cell_type": "code",
      "metadata": {
        "id": "soioXQVl42E4",
        "colab_type": "code",
        "colab": {}
      },
      "source": [
        "#Exercise 2D"
      ],
      "execution_count": null,
      "outputs": []
    },
    {
      "cell_type": "markdown",
      "metadata": {
        "id": "joAqtOllxvyn",
        "colab_type": "text"
      },
      "source": [
        "## Rational functions\n",
        "\n",
        "Rational functions are defined as ratios of polynomials. the general form of a rational function is:\n",
        "\n",
        "$$\n",
        "f(x) = \\frac{\\sum_n^N \\alpha_n x^n}{\\sum_m^M \\beta_m x^m}\n",
        "$$\n",
        "\n",
        "Rational functions have poles where their value goes to plus or minus infinity. The necessary condition for a point $x'$ to be a pole is that it is a zero of the polynomial in the denumerator:\n",
        "\n",
        "$$\n",
        "\\sum_m^M \\beta_m {x'}^m = 0\n",
        "$$\n",
        "\n",
        "In fact, poles are a consequence of a \"division by zero\". This equation is the kind of algebrain equations you studied in high school. As an example, consider the following rational function:\n",
        "\n",
        "$$\n",
        "f(x) = \\frac{5}{a x^2 + b x + c}\n",
        "$$\n",
        "\n",
        "The equation for the poles is:\n",
        "\n",
        "$$\n",
        "a x^2 + b x + c = 0\n",
        "$$\n",
        "\n",
        "which has the two solutions given by the quadratic formula:\n",
        "\n",
        "$$\n",
        "x_{\\pm} = \\frac{-b \\pm \\sqrt{b^2 - 4 a c}}{2 a}\n",
        "$$\n",
        "\n",
        "In this case, both these solutions are poles of the rational function. However, this is not always the case since a term in the numerator can 'cancel out\" the zero in the denumerator. For example, consider the foillowing function:\n",
        "\n",
        "$$\n",
        "f(x) = \\frac{x^2 - 1}{x^2 - x}\n",
        "$$\n",
        "\n",
        "the solutions of $x^2 - x = 0$ are $x = 0$ and $x = 1$. However, only $x = 0$ is a pole since both numerator and denominator go to zero as $x$ tends to 1 and these two terms exactly cancel out. \n",
        "\n",
        "### Solved exercise 2\n",
        "\n",
        "Prove this.\n",
        "\n",
        "#### Solution\n",
        "the numerator can be factorized as $x^2 - 1 = (x - 1) (x + 1)$ while the denumerator can be factorized as $x^2 - x = x (x - 1)$. Therefore:\n",
        "\n",
        "$$\n",
        "f(x) = \\frac{x^2 - 1}{x^2 - x} = \\frac{(x - 1)(x + 1)}{x (x - 1)} = \\frac{(x + 1)}{x}\n",
        "$$\n",
        "\n",
        "From this, it is easy to see that the only pole is $x = 0$.\n",
        "\n",
        "### Exercises 3\n",
        "Find the poles of the following rational functions:\n",
        "- $f(x) = \\frac{1 + x}{x^3 + x^2}$\n",
        "- $f(x) = \\frac{3}{2 - x^2}$\n",
        "- $f(x) = \\frac{(2 + x)(3 + x)x}{(x - 1)(x^2 + 5x + 6)}$\n",
        "- $f(x) = \\frac{x + 2 + \\sqrt{2}}{2x + 4x^2 + x^3}$\n",
        "- $f(x) = \\frac{x^2 - 1}{1 + 2x + x^2}$\n",
        "\n",
        "#### Solutions\n",
        "- $0$\n",
        "- $\\pm \\sqrt{2}$\n",
        "- $1$\n",
        "- $0, \\sqrt{2} - 2$\n",
        "- $-1$\n",
        "\n",
        "\n"
      ]
    },
    {
      "cell_type": "markdown",
      "metadata": {
        "id": "uJNEIucl5BjE",
        "colab_type": "text"
      },
      "source": [
        "> Exercise 3A"
      ]
    },
    {
      "cell_type": "markdown",
      "metadata": {
        "id": "EnE-BRMj5DNy",
        "colab_type": "text"
      },
      "source": [
        "> Exercise 3B"
      ]
    },
    {
      "cell_type": "markdown",
      "metadata": {
        "id": "6xU2b1VH5CtS",
        "colab_type": "text"
      },
      "source": [
        "> Exercise 3C"
      ]
    },
    {
      "cell_type": "markdown",
      "metadata": {
        "id": "jPCzC3j45BLp",
        "colab_type": "text"
      },
      "source": [
        "> Exercise 3D"
      ]
    },
    {
      "cell_type": "markdown",
      "metadata": {
        "id": "IaeBfJB45eIl",
        "colab_type": "text"
      },
      "source": [
        "> Exercise 3E"
      ]
    },
    {
      "cell_type": "markdown",
      "metadata": {
        "id": "d6HnW0U449v4",
        "colab_type": "text"
      },
      "source": [
        "### Python exercises 3\n",
        "Use Python to plot those function on a range and to check your computations. You should see that the function goes to +- infinity around the poles."
      ]
    },
    {
      "cell_type": "code",
      "metadata": {
        "id": "cyNmc9oW5iZL",
        "colab_type": "code",
        "colab": {}
      },
      "source": [
        "# Exercise 3A"
      ],
      "execution_count": null,
      "outputs": []
    },
    {
      "cell_type": "code",
      "metadata": {
        "id": "Zs80fFoR5nF8",
        "colab_type": "code",
        "colab": {}
      },
      "source": [
        "# Exercise 3B"
      ],
      "execution_count": null,
      "outputs": []
    },
    {
      "cell_type": "code",
      "metadata": {
        "id": "Yg1B5xSf5oHd",
        "colab_type": "code",
        "colab": {}
      },
      "source": [
        "# Exercise 3C"
      ],
      "execution_count": null,
      "outputs": []
    },
    {
      "cell_type": "code",
      "metadata": {
        "id": "rwA4iJX35pOh",
        "colab_type": "code",
        "colab": {}
      },
      "source": [
        "# Exercise 3D"
      ],
      "execution_count": null,
      "outputs": []
    },
    {
      "cell_type": "code",
      "metadata": {
        "id": "PmfR5bd95qQL",
        "colab_type": "code",
        "colab": {}
      },
      "source": [
        "# Exercise 3E"
      ],
      "execution_count": null,
      "outputs": []
    },
    {
      "cell_type": "markdown",
      "metadata": {
        "id": "LFmQYHMsx03C",
        "colab_type": "text"
      },
      "source": [
        "## Asymptotic relations between functions\n",
        "\n",
        "In the previous lecture we discussed asymptotic relations between sequences. We can analogously define asymptotic relations between functions. However, in this case we need to specify a point $x'$ around which we are interested in studying the asymptotic behavior. Two functions $f(x)$ and $g(x)$ are said to be asymptotic around $x'$ when:\n",
        "\n",
        "$$\n",
        "\\lim_{x \\rightarrow x'} \\frac{f(x)}{g(x)} = \\lim_{x \\rightarrow x'} \\frac{g(x)}{f(x)} = 1~.\n",
        "$$\n",
        "\n",
        "In this case, we write $f(x) \\sim g(x)$. However, be careful since this notation \"hides\" the point $x'$. Two factions that are asymptotic at $x'$ are not necessarely asymptotic around any other point!\n",
        "\n",
        "Asymptotic relations between functions are \"boring\" when $f(x)$ and $g(x)$ are continuous $x'$ is neither a pole or a zero of either of functions. In fact, in that case we have:\n",
        "\n",
        "$$\n",
        "\\lim_{x \\rightarrow x'} \\frac{f(x)}{g(x)} =  \\frac{\\lim_{x \\rightarrow x'} f(x)}{\\lim_{x \\rightarrow x'} g(x)} = \\frac{f(x')}{g(x')}~.\n",
        "$$\n",
        "\n",
        "(Note that $\\lim_{x \\rightarrow x'} f(x) = f(x')$ is the definition of continuity) Therefore, two continuous functions that have a non-zero value at $x'$ are asymptotic if and only if the have the same value at $x'$. \n",
        "\n",
        "### Solved exercises 3\n",
        "Are the following two functions asymptotic around $x' = 1\"?\n",
        "\n",
        "$$\n",
        "f(x) = (x - 1) + 3 (x - 1)^2\n",
        "$$\n",
        "\n",
        "$$\n",
        "g(x) = (x - 1)\n",
        "$$\n",
        "\n",
        "#### Solution\n",
        "Yes! Consider the limit of the ratio:\n",
        "\n",
        "$$\n",
        "\\lim_{x \\rightarrow 1} \\frac{(x - 1) + 3 (x - 1)^2}{(x - 1)} = \\lim_{x \\rightarrow 1} \\frac{(x - 1)}{(x - 1)} + \\lim_{x \\rightarrow 1} \\frac{3 (x - 1)^2}{(x - 1)} = 1 + 3 \\lim_{x \\rightarrow 1} (x - 1) = 1\n",
        "$$\n",
        "\n",
        "Note that in this case the lowest power dominates the asymptotic behavior! In fact, the term $(x - 1)^2$ goes to zero much faster than $(x - 1)$  when $x$ tends to $1$ and it is therefore \"irrelevant\". We can see this by plotting those functions using Python:"
      ]
    },
    {
      "cell_type": "code",
      "metadata": {
        "id": "UPjqzA0sx5qk",
        "colab_type": "code",
        "colab": {
          "base_uri": "https://localhost:8080/",
          "height": 287
        },
        "outputId": "fdad37ea-c9f7-491e-ca83-1144671f36ec"
      },
      "source": [
        "f1 = lambda x: (x - 1)\n",
        "f2 = lambda x: (x - 1)**2\n",
        "\n",
        "x_range = np.linspace(1,1.5,10)\n",
        "\n",
        "plt.plot(x_range, [f1(x) for x in x_range], label=\"(x - 1)\")\n",
        "plt.plot(x_range, [f2(x) for x in x_range], label=\"(x - 1)^2\")\n",
        "plt.xlim((1,1.5))\n",
        "plt.ylim((0,1))\n",
        "plt.legend(loc=\"best\")"
      ],
      "execution_count": null,
      "outputs": [
        {
          "output_type": "execute_result",
          "data": {
            "text/plain": [
              "<matplotlib.legend.Legend at 0x7f5b693324e0>"
            ]
          },
          "metadata": {
            "tags": []
          },
          "execution_count": 54
        },
        {
          "output_type": "display_data",
          "data": {
            "image/png": "[encoded data removed]",
            "text/plain": [
              "<Figure size 432x288 with 1 Axes>"
            ]
          },
          "metadata": {
            "tags": [],
            "needs_background": "light"
          }
        }
      ]
    },
    {
      "cell_type": "markdown",
      "metadata": {
        "id": "elXxwMJPD3xH",
        "colab_type": "text"
      },
      "source": [
        "### Exercises 4\n",
        "Determine if the following pairs of functions are asymptotic at $x = 0$.\n",
        "- $f(x) = 2x + x^2$, $g(x) = x + x^3$\n",
        "- $f(x) = x + x^2$, $g(x) = x + x^3$\n",
        "- $f(x) = 2 + x$, $g(x) = x$\n",
        "- $f(x) = 1 + x + 4x^2 + 3x^3 + 5x^4$, $g(x) = 1 + x^6$\n",
        "- $f(x) = 4 x^6 + x^8$, $g(x) = 3x^3 + 4 x^6$\n",
        "\n",
        "#### Solutions\n",
        "- No\n",
        "- Yes\n",
        "- No\n",
        "- Yes\n",
        "- No\n",
        "\n"
      ]
    },
    {
      "cell_type": "markdown",
      "metadata": {
        "id": "OR3-RKQB60sp",
        "colab_type": "text"
      },
      "source": [
        "> Exercise 4A"
      ]
    },
    {
      "cell_type": "markdown",
      "metadata": {
        "id": "ORApc63v61H0",
        "colab_type": "text"
      },
      "source": [
        "> Exercise 4B"
      ]
    },
    {
      "cell_type": "markdown",
      "metadata": {
        "id": "VO82Bzkw614v",
        "colab_type": "text"
      },
      "source": [
        "> Exercise 4C"
      ]
    },
    {
      "cell_type": "markdown",
      "metadata": {
        "id": "ezq4R2ue62he",
        "colab_type": "text"
      },
      "source": [
        "> Exercise 4D"
      ]
    },
    {
      "cell_type": "markdown",
      "metadata": {
        "id": "iZCvj1mo63lC",
        "colab_type": "text"
      },
      "source": [
        "> Exercise 4E"
      ]
    },
    {
      "cell_type": "markdown",
      "metadata": {
        "id": "SpKcCWU16yFq",
        "colab_type": "text"
      },
      "source": [
        "### Python exercises 4\n",
        "Check those asymptotic relations numerically using Python.\n",
        "\n",
        "#### Solution of the first question\n",
        "Let's write the two functions using Python:"
      ]
    },
    {
      "cell_type": "code",
      "metadata": {
        "id": "wodyT2c9FWQC",
        "colab_type": "code",
        "colab": {}
      },
      "source": [
        "f = lambda x: 2*x + x**2\n",
        "g = lambda x: x + x**3"
      ],
      "execution_count": null,
      "outputs": []
    },
    {
      "cell_type": "markdown",
      "metadata": {
        "id": "vSZ-zhjrFhkw",
        "colab_type": "text"
      },
      "source": [
        "We can check the limit of the ratio numerically by evaluating their ratio for a very small number such as $0.0001$. Note that we can't evaluate the ratio at zero since dividing by zero would throw an error!"
      ]
    },
    {
      "cell_type": "code",
      "metadata": {
        "id": "7r8ygzXmFzTK",
        "colab_type": "code",
        "colab": {
          "base_uri": "https://localhost:8080/",
          "height": 35
        },
        "outputId": "a9836732-df03-45ea-ee81-8ee6f8e8a314"
      },
      "source": [
        "print(\"The approximate limit of the ratio is {}\".format(f(0.0001)/g(0.0001)))"
      ],
      "execution_count": null,
      "outputs": [
        {
          "output_type": "stream",
          "text": [
            "The approximate limit of the ratio is 2.0000999799990002\n"
          ],
          "name": "stdout"
        }
      ]
    },
    {
      "cell_type": "markdown",
      "metadata": {
        "id": "9oZ6e1CK7Gar",
        "colab_type": "text"
      },
      "source": [
        "The result is clearly not close to one, therefore the two sequences are not asymptotic."
      ]
    },
    {
      "cell_type": "code",
      "metadata": {
        "id": "e0cLsuLj7LWP",
        "colab_type": "code",
        "colab": {}
      },
      "source": [
        "# Exercise 4B"
      ],
      "execution_count": null,
      "outputs": []
    },
    {
      "cell_type": "code",
      "metadata": {
        "id": "ZyZA31r57LyH",
        "colab_type": "code",
        "colab": {}
      },
      "source": [
        "# Exercise 4C"
      ],
      "execution_count": null,
      "outputs": []
    },
    {
      "cell_type": "code",
      "metadata": {
        "id": "4Xce4W037MhW",
        "colab_type": "code",
        "colab": {}
      },
      "source": [
        "# Exercise 4D"
      ],
      "execution_count": null,
      "outputs": []
    },
    {
      "cell_type": "code",
      "metadata": {
        "id": "RxRqGrJ97NcP",
        "colab_type": "code",
        "colab": {}
      },
      "source": [
        "# Exercise 4E"
      ],
      "execution_count": null,
      "outputs": []
    },
    {
      "cell_type": "markdown",
      "metadata": {
        "id": "QnxKs4ZCGAsS",
        "colab_type": "text"
      },
      "source": [
        "## Asymptotic relations involving trascendental functions\n",
        "\n",
        "Trascendental functions are functions that cannot be written in terms on polynomials. Typical examples are the exponential, its inverse the logarithm and trigonometric functions such as sine, cosine and tangent. While trascendental functions are more complicated than polynomials, using asymptotic relations we can reduce them locally to much simpler functions. For example, the function:\n",
        "\n",
        "$$\n",
        "f(x) = \\exp(x) - 1\n",
        "$$\n",
        "\n",
        "is asymptotic to $x$ for $x$ tending to $0$. here is a list of useful asymptitic relations involving transcendetal functions (for $x$ tending to zero):\n",
        "- $\\exp(x) - 1 \\sim x$\n",
        "- $\\sin(x) \\sim x$\n",
        "- $\\cos(x) - 1 \\sim -\\frac{1}{2} x^2$\n",
        "- $\\tan(x) \\sim x$\n",
        "- $\\log(1 + x) \\sim x$\n",
        "\n",
        "### Python exercises 5\n",
        "Plot each of these functions together with its asymptoticly related simple function. You should try to understand what asymptotically related functions have in common.\n",
        "\n",
        "#### Solution of question one"
      ]
    },
    {
      "cell_type": "code",
      "metadata": {
        "id": "vRh2Vo0ETt30",
        "colab_type": "code",
        "colab": {
          "base_uri": "https://localhost:8080/",
          "height": 283
        },
        "outputId": "154bbe2a-68e6-4f64-bbd2-e956b5b33fab"
      },
      "source": [
        "f = lambda x: np.exp(x) - 1\n",
        "g = lambda x: x\n",
        "\n",
        "x_range = np.linspace(-1,1,100)\n",
        "\n",
        "plt.plot(x_range, [f(x) for x in x_range], label=\"exp(x)\")\n",
        "plt.plot(x_range, [g(x) for x in x_range], label=\"x\")\n",
        "plt.legend(loc=\"best\")"
      ],
      "execution_count": null,
      "outputs": [
        {
          "output_type": "execute_result",
          "data": {
            "text/plain": [
              "<matplotlib.legend.Legend at 0x7f5b684558d0>"
            ]
          },
          "metadata": {
            "tags": []
          },
          "execution_count": 60
        },
        {
          "output_type": "display_data",
          "data": {
            "image/png": "[encoded data removed]",
            "text/plain": [
              "<Figure size 432x288 with 1 Axes>"
            ]
          },
          "metadata": {
            "tags": [],
            "needs_background": "light"
          }
        }
      ]
    },
    {
      "cell_type": "code",
      "metadata": {
        "id": "6tldzMD18DyW",
        "colab_type": "code",
        "colab": {}
      },
      "source": [
        "# Exercise 5B"
      ],
      "execution_count": null,
      "outputs": []
    },
    {
      "cell_type": "code",
      "metadata": {
        "id": "_whoG4u58Jay",
        "colab_type": "code",
        "colab": {}
      },
      "source": [
        "# Exercise 5C"
      ],
      "execution_count": null,
      "outputs": []
    },
    {
      "cell_type": "code",
      "metadata": {
        "id": "SsWCACgS8Kib",
        "colab_type": "code",
        "colab": {}
      },
      "source": [
        "# Exercise 5D"
      ],
      "execution_count": null,
      "outputs": []
    },
    {
      "cell_type": "code",
      "metadata": {
        "id": "QWy3oYdv8Loy",
        "colab_type": "code",
        "colab": {}
      },
      "source": [
        "# Exercise 5E"
      ],
      "execution_count": null,
      "outputs": []
    },
    {
      "cell_type": "markdown",
      "metadata": {
        "id": "qTmkP92MUm9b",
        "colab_type": "text"
      },
      "source": [
        "## Computing limits using asymptotics\n",
        "\n",
        "Like in the case of sequences, asymptotic relations are very useful when we need to compute limits. Like for sequences, two functions that are asymptotically related around a point $x'$ have the same limit at $x'$ (if they have a limit). Furthermore, we can divide and multiply both sides of an asymptotic relation by a third function $h(x)$ and still get a valid asymptotic relation. However, note that we CANNOT sum or subtract a function from both sides of an asymptotic relation.\n",
        "\n",
        "We can use these results to compute undeterminate limits of ratios of functions that go to zero at $x'$. For exanple, consider the following limit:\n",
        "\n",
        "$$\n",
        "\\lim_{x \\rightarrow 0} \\frac{\\sin(x)}{x + x^2}\n",
        "$$\n",
        "\n",
        "Using the asymptotic relation of the size at zero, we get:\n",
        "\n",
        "$$\n",
        "\\frac{\\sin(x)}{x + x^2} \\sim \\frac{x}{x + x^2} =  \\frac{1}{1 + x}\n",
        "$$\n",
        "\n",
        "Therefore:\n",
        "\n",
        "$$\n",
        "\\lim_{x \\rightarrow 0} \\frac{\\sin(x)}{x} = \\lim_{x \\rightarrow 0} \\frac{1}{1 + x} = 1\n",
        "$$\n",
        "\n",
        "### Exercises 6\n",
        "Compute the limit of the following functions for $x$ tending to $0$.\n",
        "- $f(x) = \\frac{x^2 + 5 x^5}{3x^2 + 3 x^4}$\n",
        "- $f(x) = \\frac{x \\sin(x)}{7x^2 + x^4}$\n",
        "- $f(x) = \\frac{5(\\exp(x) - 1)x^2}{8x^7 + 2x^3 + x^{12}}$\n",
        "- $f(x) = \\frac{x}{\\tan(x)}$\n",
        "- $f(x) = \\frac{\\exp(x)^2 - 1}{x}$\n",
        "- $f(x) = \\frac{\\cos(x)^2 - 1}{x^2}$\n",
        "- $f(x) = \\frac{\\tan(x)^2}{\\cos(x) - 1}$\n",
        "- $f(x) = \\frac{2x + x^2 + 5 x^5}{x + 3x^2 + 3 x^4 + 3x}$\n",
        "\n",
        "#### Solutions\n",
        "- $1/3$\n",
        "- $1/7$\n",
        "- $5/2$\n",
        "- $1$\n",
        "- $2$\n",
        "- $-1$\n",
        "- $-2$\n",
        "- $1/2$"
      ]
    },
    {
      "cell_type": "markdown",
      "metadata": {
        "id": "C9hW5QEy7gkn",
        "colab_type": "text"
      },
      "source": [
        "> Exercise 6A"
      ]
    },
    {
      "cell_type": "markdown",
      "metadata": {
        "id": "fKmz2cbL7jfL",
        "colab_type": "text"
      },
      "source": [
        "> Exercise 6B"
      ]
    },
    {
      "cell_type": "markdown",
      "metadata": {
        "id": "LPbeRU_n7kgT",
        "colab_type": "text"
      },
      "source": [
        "> Exercise 6C"
      ]
    },
    {
      "cell_type": "markdown",
      "metadata": {
        "id": "hiRHR3_A7lpA",
        "colab_type": "text"
      },
      "source": [
        "> Exercise 6D"
      ]
    },
    {
      "cell_type": "markdown",
      "metadata": {
        "id": "jF8PRvIt7msY",
        "colab_type": "text"
      },
      "source": [
        "> Exercise 6E"
      ]
    },
    {
      "cell_type": "markdown",
      "metadata": {
        "id": "GAX89vf27nrv",
        "colab_type": "text"
      },
      "source": [
        "> Exercise 6F"
      ]
    },
    {
      "cell_type": "markdown",
      "metadata": {
        "id": "aio3yAnq7or6",
        "colab_type": "text"
      },
      "source": [
        "> Exercise 6G"
      ]
    },
    {
      "cell_type": "markdown",
      "metadata": {
        "id": "o1YTWoi67qEp",
        "colab_type": "text"
      },
      "source": [
        "> Exercise 6H"
      ]
    }
  ]
}